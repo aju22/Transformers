{
  "nbformat": 4,
  "nbformat_minor": 0,
  "metadata": {
    "colab": {
      "name": "Transformers from Scratch.ipynb",
      "provenance": [],
      "authorship_tag": "ABX9TyPQRauCNOwtiGwZzqqhJSVX",
      "include_colab_link": true
    },
    "kernelspec": {
      "name": "python3",
      "display_name": "Python 3"
    },
    "language_info": {
      "name": "python"
    }
  },
  "cells": [
    {
      "cell_type": "markdown",
      "metadata": {
        "id": "view-in-github",
        "colab_type": "text"
      },
      "source": [
        "<a href=\"https://colab.research.google.com/github/aju22/Transformers/blob/main/Transformers_from_Scratch.ipynb\" target=\"_parent\"><img src=\"https://colab.research.google.com/assets/colab-badge.svg\" alt=\"Open In Colab\"/></a>"
      ]
    },
    {
      "cell_type": "code",
      "execution_count": 126,
      "metadata": {
        "id": "vF2vhOoh_Q34"
      },
      "outputs": [],
      "source": [
        "import tensorflow as tf\n",
        "import tensorflow_probability as tfp\n",
        "import tensorflow.keras.layers as layers\n",
        "import numpy as np"
      ]
    },
    {
      "cell_type": "code",
      "source": [
        "class selfAttention(layers.Layer):\n",
        "  def __init__(self, embed_size, heads):\n",
        "    super().__init__()\n",
        "\n",
        "    self.embed_size = embed_size\n",
        "    self.heads = heads\n",
        "    self.head_dim = self.embed_size // self.heads\n",
        "\n",
        "    assert (self.head_dim*heads == embed_size), \"Embed size needs to be divisible by heads\"\n",
        "\n",
        "    self.values = layers.Dense(self.head_dim, use_bias = False)\n",
        "    self.keys = layers.Dense(self.head_dim, use_bias = False) \n",
        "    self.queries = layers.Dense(self.head_dim, use_bias = False)\n",
        "    self.fc_out = layers.Dense(self.embed_size)\n",
        "\n",
        "  def call(self, values, keys, query, mask):\n",
        "\n",
        "    N = query.shape[0]\n",
        "    values_len, key_len, query_len = values.shape[1], keys.shape[1], query.shape[1]\n",
        "\n",
        "    values = tf.reshape(values, (N, values_len, self.heads, self.head_dim))\n",
        "    keys = tf.reshape(keys, (N, key_len, self.heads, self.head_dim))\n",
        "    queries = tf.reshape(query, (N, query_len, self.heads, self.head_dim))\n",
        "\n",
        "    values = self.values(values)\n",
        "    keys = self.keys(keys)\n",
        "    queries = self.queries(queries)\n",
        "    \n",
        "    #query shape : (n, query_len, heads, heads_dim)\n",
        "    #keys shape : (n, key_len, heads, heads_dim)\n",
        "    #einsum uses einstein notation to do a batch wise multiplication\n",
        "    #energy shape : (n, heads, query_len, key_len)\n",
        "    energy = tf.einsum(\"nqhd,nkhd->nhqk\", queries, keys)\n",
        "\n",
        "    if mask is not None:\n",
        "      energy = tf.where(mask == 0.0, float(\"-1e20\"), energy) \n",
        "\n",
        "    attention =  tf.keras.activations.softmax((energy/(self.embed_size**0.5)), axis=-1)\n",
        "    #attention shape : (n, heads, query_len, key_len)\n",
        "    #values shape = (n, value_len, heads, heads_dim)\n",
        "    #einsum shape = (n, query_len, heads, heads_dim)\n",
        "    out = tf.einsum(\"nhql,nlhd->nqhd\", attention, values)\n",
        "    out = tf.reshape(out, (N, query_len, self.heads*self.head_dim))  \n",
        "\n",
        "    return self.fc_out(out)"
      ],
      "metadata": {
        "id": "k2hNln_c_WKh"
      },
      "execution_count": 127,
      "outputs": []
    },
    {
      "cell_type": "code",
      "source": [
        "class TransformerBlock(layers.Layer):\n",
        "  def __init__(self, embed_size, heads, dropout, forward_expansion):\n",
        "    super().__init__()\n",
        "\n",
        "    self.attention = selfAttention(embed_size, heads)\n",
        "    self.norm1 = layers.LayerNormalization()\n",
        "    self.norm2 = layers.LayerNormalization()\n",
        "\n",
        "    self.feed_forward = tf.keras.Sequential([\n",
        "                                           \n",
        "        layers.Dense(forward_expansion*embed_size, activation = 'relu'),\n",
        "        layers.Dense(embed_size)\n",
        "    ])\n",
        "\n",
        "    self.dropout = layers.Dropout(dropout)\n",
        "\n",
        "\n",
        "  def call(self, value, key, query, mask):\n",
        "\n",
        "    attention = self.attention(value, key, query, mask)\n",
        "\n",
        "    x = self.norm1(attention + query)\n",
        "    \n",
        "    x = self.dropout(x)\n",
        "    \n",
        "    forward = self.feed_forward(x)\n",
        "    \n",
        "    out = self.dropout(self.norm2(forward + x))\n",
        "\n",
        "    return out"
      ],
      "metadata": {
        "id": "XdXDIkwjMlTU"
      },
      "execution_count": 128,
      "outputs": []
    },
    {
      "cell_type": "code",
      "source": [
        "class Encoder(layers.Layer):\n",
        "  def __init__(self, src_vocab_size, embed_size, num_layers, heads, forward_expansion, dropout, max_length):\n",
        "\n",
        "    super().__init__()\n",
        "\n",
        "    self.embed_size = embed_size\n",
        "    self.word_embedding = layers.Embedding(src_vocab_size, embed_size)\n",
        "    self.position_embedding = layers.Embedding(max_length, embed_size)\n",
        "\n",
        "    self.layerlist = [TransformerBlock(embed_size, heads, dropout, forward_expansion) for _ in range(num_layers)]\n",
        "    self.dropout = layers.Dropout(dropout)\n",
        "\n",
        "\n",
        "  def call(self, x, mask):\n",
        "    N, seq_length = x.shape\n",
        "\n",
        "    positions = tf.cast(tf.tile(tf.expand_dims(tf.range(0, seq_length), axis = 0), [N, 1]), tf.float32)\n",
        "\n",
        "    out = self.dropout(self.word_embedding(x) + self.position_embedding(positions))\n",
        "\n",
        "    for layer in self.layerlist:\n",
        "      out = layer(out, out, out, mask)\n",
        "\n",
        "    return out  "
      ],
      "metadata": {
        "id": "MGVfE39MPBOi"
      },
      "execution_count": 129,
      "outputs": []
    },
    {
      "cell_type": "code",
      "source": [
        "class DecoderBlock(layers.Layer):\n",
        "  def __init__(self, embed_size, heads, forward_expansion, dropout):\n",
        "\n",
        "    super().__init__()\n",
        "    self.attention = selfAttention(embed_size, heads)\n",
        "    self.norm = layers.LayerNormalization()\n",
        "    self.transformer_block = TransformerBlock(embed_size, heads, dropout, forward_expansion)\n",
        "    self.dropout = layers.Dropout(dropout)\n",
        "\n",
        "  def call(self, x, value, key, src_mask, trg_mask):\n",
        "\n",
        "    attention = self.attention(x, x, x, trg_mask)  \n",
        "    query = self.dropout(self.norm(attention + x))\n",
        "    out = self.transformer_block(value, key, query, src_mask)\n",
        "    return out  "
      ],
      "metadata": {
        "id": "dVflkbOJTJJC"
      },
      "execution_count": 130,
      "outputs": []
    },
    {
      "cell_type": "code",
      "source": [
        "class Decoder(layers.Layer):\n",
        "  def __init__(self, trg_vocab_size, embed_size, num_layers, heads, forward_expansion, dropout, max_length):\n",
        "\n",
        "    super().__init__()\n",
        "    self.embed_size = embed_size\n",
        "    self.word_embedding = layers.Embedding(trg_vocab_size, embed_size)\n",
        "    self.position_embedding = layers.Embedding(max_length, embed_size)\n",
        "    self.layerlist = [DecoderBlock(embed_size, heads, forward_expansion, dropout) for _ in range(num_layers)]\n",
        "    self.fc_out = layers.Dense(trg_vocab_size)\n",
        "    self.dropout = layers.Dropout(dropout)\n",
        "  \n",
        "  def call(self, x , enc_out, src_mask, trg_mask):\n",
        "    N, seq_length = x.shape\n",
        "\n",
        "    positions = tf.cast(tf.tile(tf.expand_dims(tf.range(0, seq_length), axis = 0), [N, 1]), tf.float32)\n",
        "    x = self.dropout(self.word_embedding(x) + self.position_embedding(positions))\n",
        "\n",
        "    for layer in self.layerlist:\n",
        "      x = layer(x, enc_out, enc_out, src_mask, trg_mask)\n",
        "\n",
        "    out = self.fc_out(x)\n",
        "\n",
        "    return out"
      ],
      "metadata": {
        "id": "gKIVQgCvTYkc"
      },
      "execution_count": 131,
      "outputs": []
    },
    {
      "cell_type": "code",
      "source": [
        "class Transformer(layers.Layer):\n",
        "\n",
        "  def __init__(self, \n",
        "               src_vocab_size, \n",
        "               trg_vocab_size,\n",
        "               src_pad_idx,\n",
        "               trg_pad_idx,\n",
        "               embed_size = 256,\n",
        "               num_layers = 6,\n",
        "               forward_expansion = 4,\n",
        "               heads = 8,\n",
        "               dropout = 0,\n",
        "               max_length = 100\n",
        "               ):\n",
        "    \n",
        "    super().__init__()\n",
        "\n",
        "    self.encoder = Encoder(src_vocab_size = src_vocab_size , embed_size = embed_size, num_layers = num_layers, \n",
        "                           heads = heads, forward_expansion = forward_expansion, dropout = dropout, max_length = max_length)\n",
        "    self.decoder = Decoder(trg_vocab_size = trg_vocab_size , embed_size = embed_size, num_layers = num_layers, \n",
        "                           heads = heads, forward_expansion = forward_expansion, dropout = dropout, max_length = max_length)\n",
        "\n",
        "    self.src_pad_idx = src_pad_idx\n",
        "    self.trg_pad_idx = trg_pad_idx\n",
        "\n",
        "  def make_src_mask(self, src):\n",
        "    src_mask = tf.expand_dims(tf.expand_dims((src != self.src_pad_idx), 1), 2)  \n",
        "    #(N, 1, 1, src_len)\n",
        "    src_mask = tf.cast(src_mask, dtype = float)\n",
        "    return src_mask\n",
        "\n",
        "  def make_trg_mask(self, trg):\n",
        "\n",
        "     N, trg_len = trg.shape\n",
        "\n",
        "     trg_mask = tfp.math.fill_triangular(tf.ones((trg_len*(trg_len+1)//2, )), upper=False)\n",
        "     trg_mask = tf.tile(tf.expand_dims(tf.expand_dims(trg_mask, axis = 0), 1), [N, 1, 1, 1])\n",
        "     \n",
        "     return trg_mask\n",
        "\n",
        "  def call(self, src, trg):\n",
        "    \n",
        "    src_mask = self.make_src_mask(src)\n",
        "    trg_mask = self.make_trg_mask(trg)\n",
        "    enc_src = self.encoder(src, src_mask)\n",
        "    out = self.decoder(trg, enc_src, src_mask, trg_mask)\n",
        "\n",
        "    return out"
      ],
      "metadata": {
        "id": "Sg1Htns4TYhC"
      },
      "execution_count": 132,
      "outputs": []
    },
    {
      "cell_type": "code",
      "source": [
        "class Transformer(layers.Layer):\n",
        "\n",
        "  def __init__(self, \n",
        "               src_vocab_size, \n",
        "               trg_vocab_size,\n",
        "               src_pad_idx,\n",
        "               trg_pad_idx,\n",
        "               embed_size = 256,\n",
        "               num_layers = 6,\n",
        "               forward_expansion = 4,\n",
        "               heads = 8,\n",
        "               dropout = 0,\n",
        "               max_length = 100\n",
        "               ):\n",
        "    \n",
        "    super().__init__()\n",
        "\n",
        "    self.encoder = Encoder(src_vocab_size = src_vocab_size , embed_size = embed_size, num_layers = num_layers, \n",
        "                           heads = heads, forward_expansion = forward_expansion, dropout = dropout, max_length = max_length)\n",
        "    self.decoder = Decoder(trg_vocab_size = trg_vocab_size , embed_size = embed_size, num_layers = num_layers, \n",
        "                           heads = heads, forward_expansion = forward_expansion, dropout = dropout, max_length = max_length)\n",
        "\n",
        "    self.src_pad_idx = src_pad_idx\n",
        "    self.trg_pad_idx = trg_pad_idx\n",
        "\n",
        "  def make_src_mask(self, src):\n",
        "    src_mask = tf.expand_dims(tf.expand_dims((src != self.src_pad_idx), 1), 2)  \n",
        "    #(N, 1, 1, src_len)\n",
        "    src_mask = tf.cast(src_mask, dtype = float)\n",
        "    return src_mask\n",
        "\n",
        "  def make_trg_mask(self, trg):\n",
        "\n",
        "     N, trg_len = trg.shape\n",
        "\n",
        "     trg_mask = tfp.math.fill_triangular(tf.ones((trg_len*(trg_len+1)//2, )), upper=False)\n",
        "     trg_mask = tf.tile(tf.expand_dims(tf.expand_dims(trg_mask, axis = 0), 1), [N, 1, 1, 1])\n",
        "     \n",
        "     return trg_mask\n",
        "\n",
        "  def call(self, src, trg):\n",
        "    \n",
        "    src_mask = self.make_src_mask(src)\n",
        "    trg_mask = self.make_trg_mask(trg)\n",
        "    enc_src = self.encoder(src, src_mask)\n",
        "    out = self.decoder(trg, enc_src, src_mask, trg_mask)\n",
        "\n",
        "    return out"
      ],
      "metadata": {
        "id": "2CTDvK4Vg7mF"
      },
      "execution_count": 133,
      "outputs": []
    },
    {
      "cell_type": "code",
      "source": [
        ""
      ],
      "metadata": {
        "id": "8BzmeL-CaKru"
      },
      "execution_count": 133,
      "outputs": []
    },
    {
      "cell_type": "code",
      "source": [
        "x = np.array([[1,5,6,4,3,9,5,2,0], \n",
        "              [1,8,7,3,4,5,6,7,2]\n",
        "              ] , dtype = np.float32)\n",
        "y = np.array([[1,7,4,3,5,9,2,0], \n",
        "              [1,5,6,2,4,7,6,2]\n",
        "              ], dtype = np.float32)\n",
        "\n",
        "src_pad_idx = 0\n",
        "trg_pad_idx = 0\n",
        "src_vocab_size = 10\n",
        "trg_vocab_size = 10\n",
        "\n",
        "model = Transformer(src_vocab_size, trg_vocab_size, src_pad_idx, trg_pad_idx)"
      ],
      "metadata": {
        "id": "cKntIrGJaWc1"
      },
      "execution_count": 134,
      "outputs": []
    },
    {
      "cell_type": "code",
      "source": [
        "out = model(x, y[:,:-1])"
      ],
      "metadata": {
        "id": "IMvdqE51bDyB"
      },
      "execution_count": 135,
      "outputs": []
    },
    {
      "cell_type": "code",
      "source": [
        "out.shape"
      ],
      "metadata": {
        "colab": {
          "base_uri": "https://localhost:8080/"
        },
        "id": "zNJSFlyocc9F",
        "outputId": "89b37188-07d9-4895-a4c6-a71982ed336e"
      },
      "execution_count": 137,
      "outputs": [
        {
          "output_type": "execute_result",
          "data": {
            "text/plain": [
              "TensorShape([2, 7, 10])"
            ]
          },
          "metadata": {},
          "execution_count": 137
        }
      ]
    },
    {
      "cell_type": "code",
      "source": [
        ""
      ],
      "metadata": {
        "id": "6lPKy158hvB9"
      },
      "execution_count": 136,
      "outputs": []
    }
  ]
}